{
 "cells": [
  {
   "cell_type": "code",
   "execution_count": 65,
   "id": "7df6c592-1ed5-43cf-ab6a-cab418869143",
   "metadata": {},
   "outputs": [],
   "source": [
    "import pandas as pd"
   ]
  },
  {
   "cell_type": "code",
   "execution_count": 66,
   "id": "14acf679-ae51-4c6f-8cd6-89249c579540",
   "metadata": {},
   "outputs": [
    {
     "data": {
      "text/html": [
       "<div>\n",
       "<style scoped>\n",
       "    .dataframe tbody tr th:only-of-type {\n",
       "        vertical-align: middle;\n",
       "    }\n",
       "\n",
       "    .dataframe tbody tr th {\n",
       "        vertical-align: top;\n",
       "    }\n",
       "\n",
       "    .dataframe thead th {\n",
       "        text-align: right;\n",
       "    }\n",
       "</style>\n",
       "<table border=\"1\" class=\"dataframe\">\n",
       "  <thead>\n",
       "    <tr style=\"text-align: right;\">\n",
       "      <th></th>\n",
       "      <th>2401</th>\n",
       "      <th>Borderlands</th>\n",
       "      <th>Positive</th>\n",
       "      <th>im getting on borderlands and i will murder you all ,</th>\n",
       "    </tr>\n",
       "  </thead>\n",
       "  <tbody>\n",
       "    <tr>\n",
       "      <th>0</th>\n",
       "      <td>2401</td>\n",
       "      <td>Borderlands</td>\n",
       "      <td>Positive</td>\n",
       "      <td>I am coming to the borders and I will kill you...</td>\n",
       "    </tr>\n",
       "    <tr>\n",
       "      <th>1</th>\n",
       "      <td>2401</td>\n",
       "      <td>Borderlands</td>\n",
       "      <td>Positive</td>\n",
       "      <td>im getting on borderlands and i will kill you ...</td>\n",
       "    </tr>\n",
       "    <tr>\n",
       "      <th>2</th>\n",
       "      <td>2401</td>\n",
       "      <td>Borderlands</td>\n",
       "      <td>Positive</td>\n",
       "      <td>im coming on borderlands and i will murder you...</td>\n",
       "    </tr>\n",
       "    <tr>\n",
       "      <th>3</th>\n",
       "      <td>2401</td>\n",
       "      <td>Borderlands</td>\n",
       "      <td>Positive</td>\n",
       "      <td>im getting on borderlands 2 and i will murder ...</td>\n",
       "    </tr>\n",
       "    <tr>\n",
       "      <th>4</th>\n",
       "      <td>2401</td>\n",
       "      <td>Borderlands</td>\n",
       "      <td>Positive</td>\n",
       "      <td>im getting into borderlands and i can murder y...</td>\n",
       "    </tr>\n",
       "    <tr>\n",
       "      <th>...</th>\n",
       "      <td>...</td>\n",
       "      <td>...</td>\n",
       "      <td>...</td>\n",
       "      <td>...</td>\n",
       "    </tr>\n",
       "    <tr>\n",
       "      <th>74676</th>\n",
       "      <td>9200</td>\n",
       "      <td>Nvidia</td>\n",
       "      <td>Positive</td>\n",
       "      <td>Just realized that the Windows partition of my...</td>\n",
       "    </tr>\n",
       "    <tr>\n",
       "      <th>74677</th>\n",
       "      <td>9200</td>\n",
       "      <td>Nvidia</td>\n",
       "      <td>Positive</td>\n",
       "      <td>Just realized that my Mac window partition is ...</td>\n",
       "    </tr>\n",
       "    <tr>\n",
       "      <th>74678</th>\n",
       "      <td>9200</td>\n",
       "      <td>Nvidia</td>\n",
       "      <td>Positive</td>\n",
       "      <td>Just realized the windows partition of my Mac ...</td>\n",
       "    </tr>\n",
       "    <tr>\n",
       "      <th>74679</th>\n",
       "      <td>9200</td>\n",
       "      <td>Nvidia</td>\n",
       "      <td>Positive</td>\n",
       "      <td>Just realized between the windows partition of...</td>\n",
       "    </tr>\n",
       "    <tr>\n",
       "      <th>74680</th>\n",
       "      <td>9200</td>\n",
       "      <td>Nvidia</td>\n",
       "      <td>Positive</td>\n",
       "      <td>Just like the windows partition of my Mac is l...</td>\n",
       "    </tr>\n",
       "  </tbody>\n",
       "</table>\n",
       "<p>74681 rows × 4 columns</p>\n",
       "</div>"
      ],
      "text/plain": [
       "       2401  Borderlands  Positive  \\\n",
       "0      2401  Borderlands  Positive   \n",
       "1      2401  Borderlands  Positive   \n",
       "2      2401  Borderlands  Positive   \n",
       "3      2401  Borderlands  Positive   \n",
       "4      2401  Borderlands  Positive   \n",
       "...     ...          ...       ...   \n",
       "74676  9200       Nvidia  Positive   \n",
       "74677  9200       Nvidia  Positive   \n",
       "74678  9200       Nvidia  Positive   \n",
       "74679  9200       Nvidia  Positive   \n",
       "74680  9200       Nvidia  Positive   \n",
       "\n",
       "      im getting on borderlands and i will murder you all ,  \n",
       "0      I am coming to the borders and I will kill you...     \n",
       "1      im getting on borderlands and i will kill you ...     \n",
       "2      im coming on borderlands and i will murder you...     \n",
       "3      im getting on borderlands 2 and i will murder ...     \n",
       "4      im getting into borderlands and i can murder y...     \n",
       "...                                                  ...     \n",
       "74676  Just realized that the Windows partition of my...     \n",
       "74677  Just realized that my Mac window partition is ...     \n",
       "74678  Just realized the windows partition of my Mac ...     \n",
       "74679  Just realized between the windows partition of...     \n",
       "74680  Just like the windows partition of my Mac is l...     \n",
       "\n",
       "[74681 rows x 4 columns]"
      ]
     },
     "execution_count": 66,
     "metadata": {},
     "output_type": "execute_result"
    }
   ],
   "source": [
    "df = pd.read_csv('twitter_training.csv')\n",
    "df"
   ]
  },
  {
   "cell_type": "code",
   "execution_count": 67,
   "id": "a6bcba5d-16d3-4f89-b63a-8c2cef1688b1",
   "metadata": {},
   "outputs": [],
   "source": [
    "df = df.rename(columns={'Positive':'label','im getting on borderlands and i will murder you all ,':'review'})"
   ]
  },
  {
   "cell_type": "code",
   "execution_count": 68,
   "id": "bc7b5679-6179-4986-bfc8-ef0ff7dd24d4",
   "metadata": {},
   "outputs": [
    {
     "name": "stdout",
     "output_type": "stream",
     "text": [
      "<class 'pandas.core.frame.DataFrame'>\n",
      "RangeIndex: 74681 entries, 0 to 74680\n",
      "Data columns (total 4 columns):\n",
      " #   Column       Non-Null Count  Dtype \n",
      "---  ------       --------------  ----- \n",
      " 0   2401         74681 non-null  int64 \n",
      " 1   Borderlands  74681 non-null  object\n",
      " 2   label        74681 non-null  object\n",
      " 3   review       73995 non-null  object\n",
      "dtypes: int64(1), object(3)\n",
      "memory usage: 2.3+ MB\n"
     ]
    }
   ],
   "source": [
    "df.info()"
   ]
  },
  {
   "cell_type": "code",
   "execution_count": 69,
   "id": "c3d2bb9e-0b6c-4dcc-b488-8ed1788af4d6",
   "metadata": {},
   "outputs": [
    {
     "data": {
      "text/plain": [
       "2401             0\n",
       "Borderlands      0\n",
       "label            0\n",
       "review         686\n",
       "dtype: int64"
      ]
     },
     "execution_count": 69,
     "metadata": {},
     "output_type": "execute_result"
    }
   ],
   "source": [
    "df.isnull().sum()"
   ]
  },
  {
   "cell_type": "code",
   "execution_count": 70,
   "id": "528ad234-0db5-4bd6-ac64-09741bdd5518",
   "metadata": {},
   "outputs": [],
   "source": [
    "df.dropna(inplace=True)"
   ]
  },
  {
   "cell_type": "code",
   "execution_count": 71,
   "id": "0ec4c1d0-ea50-4b1c-966f-ee702db0c04f",
   "metadata": {},
   "outputs": [
    {
     "data": {
      "text/plain": [
       "2340"
      ]
     },
     "execution_count": 71,
     "metadata": {},
     "output_type": "execute_result"
    }
   ],
   "source": [
    "df.duplicated().sum()"
   ]
  },
  {
   "cell_type": "code",
   "execution_count": 72,
   "id": "e70c2663-c2ea-4e9d-96fe-b5c6306c76da",
   "metadata": {},
   "outputs": [],
   "source": [
    "df = df.drop_duplicates()"
   ]
  },
  {
   "cell_type": "code",
   "execution_count": 73,
   "id": "e5d0ac4e-98dd-4659-8af3-4fae4fa21b3c",
   "metadata": {},
   "outputs": [],
   "source": [
    "df = df.drop(columns=['2401','Borderlands'])"
   ]
  },
  {
   "cell_type": "code",
   "execution_count": 74,
   "id": "1589cb6d-78fa-4f6c-a1a6-45b9ff480e93",
   "metadata": {},
   "outputs": [
    {
     "data": {
      "text/plain": [
       "label\n",
       "Negative      21698\n",
       "Positive      19712\n",
       "Neutral       17708\n",
       "Irrelevant    12537\n",
       "Name: count, dtype: int64"
      ]
     },
     "execution_count": 74,
     "metadata": {},
     "output_type": "execute_result"
    }
   ],
   "source": [
    "df['label'].value_counts()"
   ]
  },
  {
   "cell_type": "code",
   "execution_count": 75,
   "id": "5e8435cb-64ce-4b7a-8678-e3a4b25b7d17",
   "metadata": {},
   "outputs": [],
   "source": [
    "df = df[df['label'] != 'Irrelevant']"
   ]
  },
  {
   "cell_type": "code",
   "execution_count": 76,
   "id": "fededc2f-ffc6-4dfd-9072-850e7b2833b7",
   "metadata": {},
   "outputs": [],
   "source": [
    "df.reset_index(inplace=True)"
   ]
  },
  {
   "cell_type": "code",
   "execution_count": 77,
   "id": "471d4f42-e8b2-4627-bb76-d4ecc8f9f1c7",
   "metadata": {},
   "outputs": [
    {
     "data": {
      "text/plain": [
       "'I refuse to buy books off of amazon. I miss the book store . '"
      ]
     },
     "execution_count": 77,
     "metadata": {},
     "output_type": "execute_result"
    }
   ],
   "source": [
    "df['review'][3847]"
   ]
  },
  {
   "cell_type": "code",
   "execution_count": 78,
   "id": "a0705abe-2ac6-4301-af97-bcee91a08b4d",
   "metadata": {},
   "outputs": [],
   "source": [
    "df['review'] = df['review'].str.lower()"
   ]
  },
  {
   "cell_type": "code",
   "execution_count": 79,
   "id": "5bd78b39-19db-4584-a8df-179586fd7e29",
   "metadata": {},
   "outputs": [],
   "source": [
    "import re\n",
    "def remove_specific_characters(text):\n",
    "    pattern = r'[<\\[{\\\\}\"\\'\\(\\)@!-.*?\\]>]'\n",
    "    return re.sub(pattern, '', text)"
   ]
  },
  {
   "cell_type": "code",
   "execution_count": 80,
   "id": "4e063a8b-c3d8-474a-8060-808dbf96ab3f",
   "metadata": {},
   "outputs": [],
   "source": [
    "df.drop(columns='index',inplace=True)"
   ]
  },
  {
   "cell_type": "code",
   "execution_count": 81,
   "id": "96f0fdaf-30db-4a9f-95f4-5f9259f2babf",
   "metadata": {},
   "outputs": [],
   "source": [
    "df.iloc[:,1] = df['review'].apply(remove_specific_characters)"
   ]
  },
  {
   "cell_type": "code",
   "execution_count": 92,
   "id": "eb0bd0e7-9693-4c6d-9467-c81d976c1bf2",
   "metadata": {},
   "outputs": [],
   "source": [
    "from nltk.corpus import stopwords\n",
    "r_stopwords = stopwords.words('english')\n",
    "df['review'] = df['review'].apply(lambda x:[item for item in x.split() if item not in r_stopwords]).apply(lambda x:' '.join(x))"
   ]
  },
  {
   "cell_type": "code",
   "execution_count": 93,
   "id": "d837ac5c-6c08-4a55-a8f1-aed38f372d93",
   "metadata": {},
   "outputs": [],
   "source": [
    "# Load model directly\n",
    "from transformers import AutoTokenizer, AutoModelForSequenceClassification\n",
    "\n",
    "tokenizer = AutoTokenizer.from_pretrained(\"ProsusAI/finbert\")\n",
    "model = AutoModelForSequenceClassification.from_pretrained(\"ProsusAI/finbert\")"
   ]
  },
  {
   "cell_type": "code",
   "execution_count": 96,
   "id": "ff80bf61-ebfd-4769-89e0-d8dd03c36da4",
   "metadata": {},
   "outputs": [],
   "source": [
    "x = df.iloc[:100,1]"
   ]
  },
  {
   "cell_type": "code",
   "execution_count": 97,
   "id": "4f9b0774-ce49-482b-95b5-297ab35db9a1",
   "metadata": {},
   "outputs": [],
   "source": [
    "y = df.iloc[:100,0]"
   ]
  },
  {
   "cell_type": "code",
   "execution_count": 103,
   "id": "90c2d69a-6c5f-464e-ac79-e3d3093709e4",
   "metadata": {},
   "outputs": [],
   "source": [
    "tokeniz_x = tokenizer(x.to_list(),truncation=True,padding=True,return_tensors='pt')"
   ]
  },
  {
   "cell_type": "code",
   "execution_count": 105,
   "id": "79cdc570-b139-4408-aa38-f8438f76aef8",
   "metadata": {},
   "outputs": [],
   "source": [
    "outputs = model(**tokeniz_x)"
   ]
  },
  {
   "cell_type": "code",
   "execution_count": 106,
   "id": "24707800-6132-48d0-aab0-c037f376438c",
   "metadata": {},
   "outputs": [],
   "source": [
    "import torch\n",
    "logists = outputs.logits\n",
    "probabilities = torch.softmax(logists,dim=1)\n",
    "predicted_labels = torch.argmax(logists,dim=1)"
   ]
  },
  {
   "cell_type": "code",
   "execution_count": 107,
   "id": "7ed6b5d4-0b0b-4811-902a-401fe20e620d",
   "metadata": {},
   "outputs": [],
   "source": [
    "from sklearn.metrics import accuracy_score,multilabel_confusion_matrix"
   ]
  },
  {
   "cell_type": "code",
   "execution_count": 129,
   "id": "359dd7a4-7ac8-4ca1-bf4b-58e7ffcc6d0c",
   "metadata": {},
   "outputs": [],
   "source": [
    "y_test = pd.get_dummies(y)"
   ]
  },
  {
   "cell_type": "code",
   "execution_count": 130,
   "id": "388731c8-a1bb-4657-a251-767e1125d72a",
   "metadata": {},
   "outputs": [],
   "source": [
    "y_pred = pd.get_dummies(predicted_labels)"
   ]
  },
  {
   "cell_type": "code",
   "execution_count": 131,
   "id": "02474675-6f39-42bf-9251-6d3bdd0f0404",
   "metadata": {},
   "outputs": [
    {
     "name": "stdout",
     "output_type": "stream",
     "text": [
      "0.33\n"
     ]
    }
   ],
   "source": [
    "print(accuracy_score(y_test,y_pred))"
   ]
  },
  {
   "cell_type": "code",
   "execution_count": 132,
   "id": "1459cf51-cdba-4fb0-b7b5-1dcf331b0ef3",
   "metadata": {},
   "outputs": [
    {
     "name": "stdout",
     "output_type": "stream",
     "text": [
      "[[[65  8]\n",
      "  [27  0]]\n",
      "\n",
      " [[61  6]\n",
      "  [32  1]]\n",
      "\n",
      " [[ 7 53]\n",
      "  [ 8 32]]]\n"
     ]
    }
   ],
   "source": [
    "print(multilabel_confusion_matrix(y_test,y_pred))"
   ]
  },
  {
   "cell_type": "code",
   "execution_count": null,
   "id": "9fc180c6-83b1-4a5f-80ae-10226bb2fa87",
   "metadata": {},
   "outputs": [],
   "source": []
  }
 ],
 "metadata": {
  "kernelspec": {
   "display_name": "Python 3 (ipykernel)",
   "language": "python",
   "name": "python3"
  },
  "language_info": {
   "codemirror_mode": {
    "name": "ipython",
    "version": 3
   },
   "file_extension": ".py",
   "mimetype": "text/x-python",
   "name": "python",
   "nbconvert_exporter": "python",
   "pygments_lexer": "ipython3",
   "version": "3.11.4"
  }
 },
 "nbformat": 4,
 "nbformat_minor": 5
}
